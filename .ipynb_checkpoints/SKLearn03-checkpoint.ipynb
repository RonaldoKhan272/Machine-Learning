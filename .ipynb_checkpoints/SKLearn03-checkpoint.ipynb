{
 "cells": [
  {
   "cell_type": "markdown",
   "id": "5af96291",
   "metadata": {},
   "source": [
    "# Machine Learning Workflow dengan Scikit Learn"
   ]
  },
  {
   "cell_type": "markdown",
   "id": "74a0e36b",
   "metadata": {},
   "source": [
    "# Persiapan Dataset"
   ]
  },
  {
   "cell_type": "markdown",
   "id": "83b2db75",
   "metadata": {},
   "source": [
    "# Load Sample Dataset: Iris Dataset"
   ]
  },
  {
   "cell_type": "code",
   "execution_count": 1,
   "id": "a1c28f3c",
   "metadata": {},
   "outputs": [],
   "source": [
    "from sklearn.datasets import load_iris\n",
    "\n",
    "iris = load_iris()\n",
    "\n",
    "x = iris.data\n",
    "y = iris.target"
   ]
  },
  {
   "cell_type": "markdown",
   "id": "23b00aa7",
   "metadata": {},
   "source": [
    "# Splitting Dataset : Training & Test Set"
   ]
  },
  {
   "cell_type": "code",
   "execution_count": 2,
   "id": "42b3ad6b",
   "metadata": {},
   "outputs": [],
   "source": [
    "from sklearn.model_selection import train_test_split\n",
    "\n",
    "X_train, X_test, y_train, y_test = train_test_split(x,\n",
    "                                                   y,\n",
    "                                                   test_size=0.4,\n",
    "                                                   random_state=1)"
   ]
  },
  {
   "cell_type": "markdown",
   "id": "24cc140c",
   "metadata": {},
   "source": [
    "# Training Model"
   ]
  },
  {
   "cell_type": "markdown",
   "id": "f17fdb71",
   "metadata": {},
   "source": [
    "- Di `Scikit Learn`, model machine learning dibentuk dari class yang dikenal dengan isitilah `estimator`\n",
    "- Setiap `estimator mengimplementasikan` dua method utama, yaitu `fit()` dan `predict()`\n",
    "\n",
    "- `fit()` --> untuk melakukan training model.\n",
    "- `predict()` --> untuk melakukan estimasi/ prediksi dengan memanfaatkan trained model."
   ]
  },
  {
   "cell_type": "code",
   "execution_count": 4,
   "id": "3e06c94c",
   "metadata": {},
   "outputs": [
    {
     "data": {
      "text/plain": [
       "KNeighborsClassifier(n_neighbors=3)"
      ]
     },
     "execution_count": 4,
     "metadata": {},
     "output_type": "execute_result"
    }
   ],
   "source": [
    "from sklearn.neighbors import KNeighborsClassifier\n",
    "\n",
    "model = KNeighborsClassifier(n_neighbors=3)\n",
    "model.fit(X_train, y_train)"
   ]
  },
  {
   "cell_type": "markdown",
   "id": "457d447d",
   "metadata": {},
   "source": [
    "# Evaluasi Model"
   ]
  },
  {
   "cell_type": "code",
   "execution_count": 6,
   "id": "ab666c12",
   "metadata": {},
   "outputs": [
    {
     "name": "stdout",
     "output_type": "stream",
     "text": [
      "Accuracy: 0.9833333333333333\n"
     ]
    }
   ],
   "source": [
    "from sklearn.metrics import accuracy_score\n",
    "\n",
    "y_pred = model.predict(X_test)\n",
    "acc = accuracy_score(y_test, y_pred)\n",
    "print(f'Accuracy: {acc}')"
   ]
  },
  {
   "cell_type": "markdown",
   "id": "8eda24de",
   "metadata": {},
   "source": [
    "# Pemanfaatan Trained Model"
   ]
  },
  {
   "cell_type": "code",
   "execution_count": 7,
   "id": "efb5b110",
   "metadata": {},
   "outputs": [
    {
     "data": {
      "text/plain": [
       "array([1, 2])"
      ]
     },
     "execution_count": 7,
     "metadata": {},
     "output_type": "execute_result"
    }
   ],
   "source": [
    "data_baru = [[5, 5, 3, 2]\n",
    "             ,[2, 4, 3, 5]]\n",
    "\n",
    "preds = model.predict(data_baru)\n",
    "preds"
   ]
  },
  {
   "cell_type": "code",
   "execution_count": 8,
   "id": "effe51c7",
   "metadata": {},
   "outputs": [
    {
     "name": "stdout",
     "output_type": "stream",
     "text": [
      "Hasil Prediksi: ['versicolor', 'virginica']\n"
     ]
    }
   ],
   "source": [
    "pred_species = [iris.target_names[p] for p in preds]\n",
    "print(f'Hasil Prediksi: {pred_species}')"
   ]
  },
  {
   "cell_type": "markdown",
   "id": "f389c321",
   "metadata": {},
   "source": [
    "# Dump & Load Trained Model"
   ]
  },
  {
   "cell_type": "markdown",
   "id": "8779e04e",
   "metadata": {},
   "source": [
    "# Dumping Model Machine Learning menjadi file `joblib`"
   ]
  },
  {
   "cell_type": "code",
   "execution_count": 9,
   "id": "77ed2541",
   "metadata": {},
   "outputs": [
    {
     "data": {
      "text/plain": [
       "['iris_classifier_knn.joblib']"
      ]
     },
     "execution_count": 9,
     "metadata": {},
     "output_type": "execute_result"
    }
   ],
   "source": [
    "import joblib\n",
    "\n",
    "joblib.dump(model, 'iris_classifier_knn.joblib')"
   ]
  },
  {
   "cell_type": "markdown",
   "id": "987db970",
   "metadata": {},
   "source": [
    "# Loading Model Machine Learning dari file `joblib`"
   ]
  },
  {
   "cell_type": "code",
   "execution_count": 11,
   "id": "cff0b3f4",
   "metadata": {},
   "outputs": [],
   "source": [
    "production_model = joblib.load('iris_classifier_knn.joblib') #melakukan prediksi terhadap data-data baru di production"
   ]
  },
  {
   "cell_type": "code",
   "execution_count": null,
   "id": "f2eb858b",
   "metadata": {},
   "outputs": [],
   "source": []
  }
 ],
 "metadata": {
  "kernelspec": {
   "display_name": "Python 3",
   "language": "python",
   "name": "python3"
  },
  "language_info": {
   "codemirror_mode": {
    "name": "ipython",
    "version": 3
   },
   "file_extension": ".py",
   "mimetype": "text/x-python",
   "name": "python",
   "nbconvert_exporter": "python",
   "pygments_lexer": "ipython3",
   "version": "3.8.8"
  }
 },
 "nbformat": 4,
 "nbformat_minor": 5
}
