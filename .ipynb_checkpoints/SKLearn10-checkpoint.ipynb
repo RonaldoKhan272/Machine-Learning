{
 "cells": [
  {
   "cell_type": "markdown",
   "id": "154c8085",
   "metadata": {},
   "source": [
    "# Mengenal Text Processing : Bag of Words & Stop Word Filtering"
   ]
  },
  {
   "cell_type": "markdown",
   "id": "e97a09d7",
   "metadata": {},
   "source": [
    "# Bag of Words model sebagai representasi text"
   ]
  },
  {
   "cell_type": "markdown",
   "id": "aa5c0562",
   "metadata": {},
   "source": [
    "Bag of Words berfungsi untuk menyederhanakan representasi text sebagai sekumpulan kata serta mengabaikan grammar dan posisi tiap kata pada kalimat. Text akan dikonversi menjadi lowercase dan tanda baca akan diabaikan."
   ]
  },
  {
   "cell_type": "markdown",
   "id": "93a26671",
   "metadata": {},
   "source": [
    "# Dataset"
   ]
  },
  {
   "cell_type": "code",
   "execution_count": 1,
   "id": "efffaf64",
   "metadata": {},
   "outputs": [
    {
     "data": {
      "text/plain": [
       "['Linux has been around since the mid-1990s.',\n",
       " 'Linux distributions include the Linux kernel.',\n",
       " 'Linux is one of the most prominent open-source software.']"
      ]
     },
     "execution_count": 1,
     "metadata": {},
     "output_type": "execute_result"
    }
   ],
   "source": [
    "corpus = [\n",
    "    'Linux has been around since the mid-1990s.',\n",
    "    'Linux distributions include the Linux kernel.',\n",
    "    'Linux is one of the most prominent open-source software.'\n",
    "]\n",
    "\n",
    "corpus"
   ]
  },
  {
   "cell_type": "markdown",
   "id": "a44d6376",
   "metadata": {},
   "source": [
    "# Bag of Words model dengan `CountVectorizer`"
   ]
  },
  {
   "cell_type": "markdown",
   "id": "e8c16f22",
   "metadata": {},
   "source": [
    "Bag of Words model dapat diterapkan dengan memanfaatkan `CountVectorizer`"
   ]
  },
  {
   "cell_type": "code",
   "execution_count": 3,
   "id": "0fa5cb0c",
   "metadata": {},
   "outputs": [
    {
     "data": {
      "text/plain": [
       "matrix([[1, 1, 1, 0, 1, 0, 0, 0, 1, 1, 0, 0, 0, 0, 0, 1, 0, 0, 1],\n",
       "        [0, 0, 0, 1, 0, 1, 0, 1, 2, 0, 0, 0, 0, 0, 0, 0, 0, 0, 1],\n",
       "        [0, 0, 0, 0, 0, 0, 1, 0, 1, 0, 1, 1, 1, 1, 1, 0, 1, 1, 1]],\n",
       "       dtype=int64)"
      ]
     },
     "execution_count": 3,
     "metadata": {},
     "output_type": "execute_result"
    }
   ],
   "source": [
    "from sklearn.feature_extraction.text import CountVectorizer\n",
    "\n",
    "vectorizer = CountVectorizer()\n",
    "vectorized_X = vectorizer.fit_transform(corpus).todense()\n",
    "vectorized_X"
   ]
  },
  {
   "cell_type": "code",
   "execution_count": 4,
   "id": "68f1c9e4",
   "metadata": {},
   "outputs": [
    {
     "data": {
      "text/plain": [
       "['1990s',\n",
       " 'around',\n",
       " 'been',\n",
       " 'distributions',\n",
       " 'has',\n",
       " 'include',\n",
       " 'is',\n",
       " 'kernel',\n",
       " 'linux',\n",
       " 'mid',\n",
       " 'most',\n",
       " 'of',\n",
       " 'one',\n",
       " 'open',\n",
       " 'prominent',\n",
       " 'since',\n",
       " 'software',\n",
       " 'source',\n",
       " 'the']"
      ]
     },
     "execution_count": 4,
     "metadata": {},
     "output_type": "execute_result"
    }
   ],
   "source": [
    "vectorizer.get_feature_names()"
   ]
  },
  {
   "cell_type": "markdown",
   "id": "5edbf7dd",
   "metadata": {},
   "source": [
    "# Euclidan Distance untuk mengukur kedekatan/jarak antar dokumen (vector)"
   ]
  },
  {
   "cell_type": "code",
   "execution_count": 5,
   "id": "b0e59bf8",
   "metadata": {},
   "outputs": [
    {
     "name": "stdout",
     "output_type": "stream",
     "text": [
      "Jarak dokumen 1 dan 2: (jarak)\n",
      "Jarak dokumen 1 dan 3: (jarak)\n",
      "Jarak dokumen 2 dan 3: (jarak)\n"
     ]
    }
   ],
   "source": [
    "from sklearn.metrics.pairwise import euclidean_distances\n",
    "\n",
    "for i in range(len(vectorized_X)):\n",
    "    for j in range(i, len(vectorized_X)):\n",
    "        if i == j:\n",
    "            continue\n",
    "        jarak = euclidean_distances(vectorized_X[i], vectorized_X[j])\n",
    "        print(f'Jarak dokumen {i+1} dan {j+1}: (jarak)')"
   ]
  },
  {
   "cell_type": "markdown",
   "id": "6d90e6ec",
   "metadata": {},
   "source": [
    "# Stop Word Filtering pada text"
   ]
  },
  {
   "cell_type": "markdown",
   "id": "1c02c86e",
   "metadata": {},
   "source": [
    "Stop Word Filtering menyederhanakan representasi text dengan mengabaikan beberapa kata seperti determines (the,a,an), auxiliary verbs (do, be, will), dan prepositions (on, it, at)."
   ]
  },
  {
   "cell_type": "markdown",
   "id": "5fd7838b",
   "metadata": {},
   "source": [
    "# Stop Word Filtering dengan `CountVectorizer`"
   ]
  },
  {
   "cell_type": "markdown",
   "id": "f4e19a45",
   "metadata": {},
   "source": [
    "Stop Word Fiiltering juga dapat diterapkan dengan memanfaatkan `CountVectorizer`"
   ]
  },
  {
   "cell_type": "code",
   "execution_count": 7,
   "id": "84d519e7",
   "metadata": {},
   "outputs": [
    {
     "data": {
      "text/plain": [
       "matrix([[1, 0, 0, 0, 1, 1, 0, 0, 0, 0],\n",
       "        [0, 1, 1, 1, 2, 0, 0, 0, 0, 0],\n",
       "        [0, 0, 0, 0, 1, 0, 1, 1, 1, 1]], dtype=int64)"
      ]
     },
     "execution_count": 7,
     "metadata": {},
     "output_type": "execute_result"
    }
   ],
   "source": [
    "from sklearn.feature_extraction.text import CountVectorizer\n",
    "\n",
    "vectorizer = CountVectorizer(stop_words='english')\n",
    "vectorized_X = vectorizer.fit_transform(corpus).todense()\n",
    "vectorized_X"
   ]
  },
  {
   "cell_type": "code",
   "execution_count": 8,
   "id": "4db89a88",
   "metadata": {},
   "outputs": [
    {
     "data": {
      "text/plain": [
       "['1990s',\n",
       " 'distributions',\n",
       " 'include',\n",
       " 'kernel',\n",
       " 'linux',\n",
       " 'mid',\n",
       " 'open',\n",
       " 'prominent',\n",
       " 'software',\n",
       " 'source']"
      ]
     },
     "execution_count": 8,
     "metadata": {},
     "output_type": "execute_result"
    }
   ],
   "source": [
    "vectorizer.get_feature_names()"
   ]
  },
  {
   "cell_type": "code",
   "execution_count": null,
   "id": "3a74a363",
   "metadata": {},
   "outputs": [],
   "source": []
  }
 ],
 "metadata": {
  "kernelspec": {
   "display_name": "Python 3",
   "language": "python",
   "name": "python3"
  },
  "language_info": {
   "codemirror_mode": {
    "name": "ipython",
    "version": 3
   },
   "file_extension": ".py",
   "mimetype": "text/x-python",
   "name": "python",
   "nbconvert_exporter": "python",
   "pygments_lexer": "ipython3",
   "version": "3.8.8"
  }
 },
 "nbformat": 4,
 "nbformat_minor": 5
}
